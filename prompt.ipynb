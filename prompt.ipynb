{
  "cells": [
    {
      "cell_type": "markdown",
      "metadata": {
        "id": "CcUT6Fon_qRE"
      },
      "source": [
        "### Required Assignment 5.1: Will the Customer Accept the Coupon?\n",
        "\n",
        "**Context**\n",
        "\n",
        "Imagine driving through town and a coupon is delivered to your cell phone for a restaurant near where you are driving. Would you accept that coupon and take a short detour to the restaurant? Would you accept the coupon but use it on a subsequent trip? Would you ignore the coupon entirely? What if the coupon was for a bar instead of a restaurant? What about a coffee house? Would you accept a bar coupon with a minor passenger in the car? What about if it was just you and your partner in the car? Would weather impact the rate of acceptance? What about the time of day?\n",
        "\n",
        "Obviously, proximity to the business is a factor on whether the coupon is delivered to the driver or not, but what are the factors that determine whether a driver accepts the coupon once it is delivered to them? How would you determine whether a driver is likely to accept a coupon?\n",
        "\n",
        "**Overview**\n",
        "\n",
        "The goal of this project is to use what you know about visualizations and probability distributions to distinguish between customers who accepted a driving coupon versus those that did not.\n",
        "\n",
        "**Data**\n",
        "\n",
        "This data comes to us from the UCI Machine Learning repository and was collected via a survey on Amazon Mechanical Turk. The survey describes different driving scenarios including the destination, current time, weather, passenger, etc., and then ask the person whether he will accept the coupon if he is the driver. Answers that the user will drive there ‘right away’ or ‘later before the coupon expires’ are labeled as ‘Y = 1’ and answers ‘no, I do not want the coupon’ are labeled as ‘Y = 0’.  There are five different types of coupons -- less expensive restaurants (under \\$20), coffee houses, carry out & take away, bar, and more expensive restaurants (\\$20 - $50)."
      ]
    },
    {
      "cell_type": "markdown",
      "metadata": {
        "id": "pG6_Ym6q_qRG"
      },
      "source": [
        "### Data Description\n",
        "Keep in mind that these values mentioned below are average values.\n",
        "\n",
        "The attributes of this data set include:\n",
        "1. User attributes\n",
        "    -  Gender: male, female\n",
        "    -  Age: below 21, 21 to 25, 26 to 30, etc.\n",
        "    -  Marital Status: single, married partner, unmarried partner, or widowed\n",
        "    -  Number of children: 0, 1, or more than 1\n",
        "    -  Education: high school, bachelors degree, associates degree, or graduate degree\n",
        "    -  Occupation: architecture & engineering, business & financial, etc.\n",
        "    -  Annual income: less than \\\\$12500, \\\\$12500 - \\\\$24999, \\\\$25000 - \\\\$37499, etc.\n",
        "    -  Number of times that he/she goes to a bar: 0, less than 1, 1 to 3, 4 to 8 or greater than 8\n",
        "    -  Number of times that he/she buys takeaway food: 0, less than 1, 1 to 3, 4 to 8 or greater\n",
        "    than 8\n",
        "    -  Number of times that he/she goes to a coffee house: 0, less than 1, 1 to 3, 4 to 8 or\n",
        "    greater than 8\n",
        "    -  Number of times that he/she eats at a restaurant with average expense less than \\\\$20 per\n",
        "    person: 0, less than 1, 1 to 3, 4 to 8 or greater than 8\n",
        "    -  Number of times that he/she goes to a bar: 0, less than 1, 1 to 3, 4 to 8 or greater than 8\n",
        "    \n",
        "\n",
        "2. Contextual attributes\n",
        "    - Driving destination: home, work, or no urgent destination\n",
        "    - Location of user, coupon and destination: we provide a map to show the geographical\n",
        "    location of the user, destination, and the venue, and we mark the distance between each\n",
        "    two places with time of driving. The user can see whether the venue is in the same\n",
        "    direction as the destination.\n",
        "    - Weather: sunny, rainy, or snowy\n",
        "    - Temperature: 30F, 55F, or 80F\n",
        "    - Time: 10AM, 2PM, or 6PM\n",
        "    - Passenger: alone, partner, kid(s), or friend(s)\n",
        "\n",
        "\n",
        "3. Coupon attributes\n",
        "    - time before it expires: 2 hours or one day"
      ]
    },
    {
      "cell_type": "code",
      "execution_count": 1,
      "metadata": {
        "id": "dzNoP3o__qRG"
      },
      "outputs": [],
      "source": [
        "import matplotlib.pyplot as plt\n",
        "import seaborn as sns\n",
        "import pandas as pd\n",
        "import numpy as np"
      ]
    },
    {
      "cell_type": "markdown",
      "metadata": {
        "id": "Ct8pI1uE_qRG"
      },
      "source": [
        "### Problems\n",
        "\n",
        "Use the prompts below to get started with your data analysis.  \n",
        "\n",
        "1. Read in the `coupons.csv` file.\n",
        "\n",
        "\n"
      ]
    },
    {
      "cell_type": "code",
      "execution_count": 2,
      "metadata": {
        "id": "X0vbffYg_qRH"
      },
      "outputs": [],
      "source": [
        "data = pd.read_csv('data/coupons.csv')"
      ]
    },
    {
      "cell_type": "code",
      "execution_count": 3,
      "metadata": {
        "id": "TXofQ_DF_qRH",
        "outputId": "347f5911-1f26-4446-b9de-9bfd6c8af8b4",
        "colab": {
          "base_uri": "https://localhost:8080/",
          "height": 342
        }
      },
      "outputs": [
        {
          "output_type": "execute_result",
          "data": {
            "text/plain": [
              "       destination  passanger weather  temperature  time  \\\n",
              "0  No Urgent Place      Alone   Sunny           55   2PM   \n",
              "1  No Urgent Place  Friend(s)   Sunny           80  10AM   \n",
              "2  No Urgent Place  Friend(s)   Sunny           80  10AM   \n",
              "3  No Urgent Place  Friend(s)   Sunny           80   2PM   \n",
              "4  No Urgent Place  Friend(s)   Sunny           80   2PM   \n",
              "\n",
              "                  coupon expiration  gender age      maritalStatus  ...  \\\n",
              "0        Restaurant(<20)         1d  Female  21  Unmarried partner  ...   \n",
              "1           Coffee House         2h  Female  21  Unmarried partner  ...   \n",
              "2  Carry out & Take away         2h  Female  21  Unmarried partner  ...   \n",
              "3           Coffee House         2h  Female  21  Unmarried partner  ...   \n",
              "4           Coffee House         1d  Female  21  Unmarried partner  ...   \n",
              "\n",
              "   CoffeeHouse CarryAway RestaurantLessThan20 Restaurant20To50  \\\n",
              "0        never       NaN                  4~8              1~3   \n",
              "1        never       NaN                  4~8              1~3   \n",
              "2        never       NaN                  4~8              1~3   \n",
              "3        never       NaN                  4~8              1~3   \n",
              "4        never       NaN                  4~8              1~3   \n",
              "\n",
              "  toCoupon_GEQ5min toCoupon_GEQ15min toCoupon_GEQ25min direction_same  \\\n",
              "0                1                 0                 0              0   \n",
              "1                1                 0                 0              0   \n",
              "2                1                 1                 0              0   \n",
              "3                1                 1                 0              0   \n",
              "4                1                 1                 0              0   \n",
              "\n",
              "  direction_opp  Y  \n",
              "0             1  1  \n",
              "1             1  0  \n",
              "2             1  1  \n",
              "3             1  0  \n",
              "4             1  0  \n",
              "\n",
              "[5 rows x 26 columns]"
            ],
            "text/html": [
              "\n",
              "  <div id=\"df-59df489e-8bd4-4548-bb1a-bafa3bbff4c4\" class=\"colab-df-container\">\n",
              "    <div>\n",
              "<style scoped>\n",
              "    .dataframe tbody tr th:only-of-type {\n",
              "        vertical-align: middle;\n",
              "    }\n",
              "\n",
              "    .dataframe tbody tr th {\n",
              "        vertical-align: top;\n",
              "    }\n",
              "\n",
              "    .dataframe thead th {\n",
              "        text-align: right;\n",
              "    }\n",
              "</style>\n",
              "<table border=\"1\" class=\"dataframe\">\n",
              "  <thead>\n",
              "    <tr style=\"text-align: right;\">\n",
              "      <th></th>\n",
              "      <th>destination</th>\n",
              "      <th>passanger</th>\n",
              "      <th>weather</th>\n",
              "      <th>temperature</th>\n",
              "      <th>time</th>\n",
              "      <th>coupon</th>\n",
              "      <th>expiration</th>\n",
              "      <th>gender</th>\n",
              "      <th>age</th>\n",
              "      <th>maritalStatus</th>\n",
              "      <th>...</th>\n",
              "      <th>CoffeeHouse</th>\n",
              "      <th>CarryAway</th>\n",
              "      <th>RestaurantLessThan20</th>\n",
              "      <th>Restaurant20To50</th>\n",
              "      <th>toCoupon_GEQ5min</th>\n",
              "      <th>toCoupon_GEQ15min</th>\n",
              "      <th>toCoupon_GEQ25min</th>\n",
              "      <th>direction_same</th>\n",
              "      <th>direction_opp</th>\n",
              "      <th>Y</th>\n",
              "    </tr>\n",
              "  </thead>\n",
              "  <tbody>\n",
              "    <tr>\n",
              "      <th>0</th>\n",
              "      <td>No Urgent Place</td>\n",
              "      <td>Alone</td>\n",
              "      <td>Sunny</td>\n",
              "      <td>55</td>\n",
              "      <td>2PM</td>\n",
              "      <td>Restaurant(&lt;20)</td>\n",
              "      <td>1d</td>\n",
              "      <td>Female</td>\n",
              "      <td>21</td>\n",
              "      <td>Unmarried partner</td>\n",
              "      <td>...</td>\n",
              "      <td>never</td>\n",
              "      <td>NaN</td>\n",
              "      <td>4~8</td>\n",
              "      <td>1~3</td>\n",
              "      <td>1</td>\n",
              "      <td>0</td>\n",
              "      <td>0</td>\n",
              "      <td>0</td>\n",
              "      <td>1</td>\n",
              "      <td>1</td>\n",
              "    </tr>\n",
              "    <tr>\n",
              "      <th>1</th>\n",
              "      <td>No Urgent Place</td>\n",
              "      <td>Friend(s)</td>\n",
              "      <td>Sunny</td>\n",
              "      <td>80</td>\n",
              "      <td>10AM</td>\n",
              "      <td>Coffee House</td>\n",
              "      <td>2h</td>\n",
              "      <td>Female</td>\n",
              "      <td>21</td>\n",
              "      <td>Unmarried partner</td>\n",
              "      <td>...</td>\n",
              "      <td>never</td>\n",
              "      <td>NaN</td>\n",
              "      <td>4~8</td>\n",
              "      <td>1~3</td>\n",
              "      <td>1</td>\n",
              "      <td>0</td>\n",
              "      <td>0</td>\n",
              "      <td>0</td>\n",
              "      <td>1</td>\n",
              "      <td>0</td>\n",
              "    </tr>\n",
              "    <tr>\n",
              "      <th>2</th>\n",
              "      <td>No Urgent Place</td>\n",
              "      <td>Friend(s)</td>\n",
              "      <td>Sunny</td>\n",
              "      <td>80</td>\n",
              "      <td>10AM</td>\n",
              "      <td>Carry out &amp; Take away</td>\n",
              "      <td>2h</td>\n",
              "      <td>Female</td>\n",
              "      <td>21</td>\n",
              "      <td>Unmarried partner</td>\n",
              "      <td>...</td>\n",
              "      <td>never</td>\n",
              "      <td>NaN</td>\n",
              "      <td>4~8</td>\n",
              "      <td>1~3</td>\n",
              "      <td>1</td>\n",
              "      <td>1</td>\n",
              "      <td>0</td>\n",
              "      <td>0</td>\n",
              "      <td>1</td>\n",
              "      <td>1</td>\n",
              "    </tr>\n",
              "    <tr>\n",
              "      <th>3</th>\n",
              "      <td>No Urgent Place</td>\n",
              "      <td>Friend(s)</td>\n",
              "      <td>Sunny</td>\n",
              "      <td>80</td>\n",
              "      <td>2PM</td>\n",
              "      <td>Coffee House</td>\n",
              "      <td>2h</td>\n",
              "      <td>Female</td>\n",
              "      <td>21</td>\n",
              "      <td>Unmarried partner</td>\n",
              "      <td>...</td>\n",
              "      <td>never</td>\n",
              "      <td>NaN</td>\n",
              "      <td>4~8</td>\n",
              "      <td>1~3</td>\n",
              "      <td>1</td>\n",
              "      <td>1</td>\n",
              "      <td>0</td>\n",
              "      <td>0</td>\n",
              "      <td>1</td>\n",
              "      <td>0</td>\n",
              "    </tr>\n",
              "    <tr>\n",
              "      <th>4</th>\n",
              "      <td>No Urgent Place</td>\n",
              "      <td>Friend(s)</td>\n",
              "      <td>Sunny</td>\n",
              "      <td>80</td>\n",
              "      <td>2PM</td>\n",
              "      <td>Coffee House</td>\n",
              "      <td>1d</td>\n",
              "      <td>Female</td>\n",
              "      <td>21</td>\n",
              "      <td>Unmarried partner</td>\n",
              "      <td>...</td>\n",
              "      <td>never</td>\n",
              "      <td>NaN</td>\n",
              "      <td>4~8</td>\n",
              "      <td>1~3</td>\n",
              "      <td>1</td>\n",
              "      <td>1</td>\n",
              "      <td>0</td>\n",
              "      <td>0</td>\n",
              "      <td>1</td>\n",
              "      <td>0</td>\n",
              "    </tr>\n",
              "  </tbody>\n",
              "</table>\n",
              "<p>5 rows × 26 columns</p>\n",
              "</div>\n",
              "    <div class=\"colab-df-buttons\">\n",
              "\n",
              "  <div class=\"colab-df-container\">\n",
              "    <button class=\"colab-df-convert\" onclick=\"convertToInteractive('df-59df489e-8bd4-4548-bb1a-bafa3bbff4c4')\"\n",
              "            title=\"Convert this dataframe to an interactive table.\"\n",
              "            style=\"display:none;\">\n",
              "\n",
              "  <svg xmlns=\"http://www.w3.org/2000/svg\" height=\"24px\" viewBox=\"0 -960 960 960\">\n",
              "    <path d=\"M120-120v-720h720v720H120Zm60-500h600v-160H180v160Zm220 220h160v-160H400v160Zm0 220h160v-160H400v160ZM180-400h160v-160H180v160Zm440 0h160v-160H620v160ZM180-180h160v-160H180v160Zm440 0h160v-160H620v160Z\"/>\n",
              "  </svg>\n",
              "    </button>\n",
              "\n",
              "  <style>\n",
              "    .colab-df-container {\n",
              "      display:flex;\n",
              "      gap: 12px;\n",
              "    }\n",
              "\n",
              "    .colab-df-convert {\n",
              "      background-color: #E8F0FE;\n",
              "      border: none;\n",
              "      border-radius: 50%;\n",
              "      cursor: pointer;\n",
              "      display: none;\n",
              "      fill: #1967D2;\n",
              "      height: 32px;\n",
              "      padding: 0 0 0 0;\n",
              "      width: 32px;\n",
              "    }\n",
              "\n",
              "    .colab-df-convert:hover {\n",
              "      background-color: #E2EBFA;\n",
              "      box-shadow: 0px 1px 2px rgba(60, 64, 67, 0.3), 0px 1px 3px 1px rgba(60, 64, 67, 0.15);\n",
              "      fill: #174EA6;\n",
              "    }\n",
              "\n",
              "    .colab-df-buttons div {\n",
              "      margin-bottom: 4px;\n",
              "    }\n",
              "\n",
              "    [theme=dark] .colab-df-convert {\n",
              "      background-color: #3B4455;\n",
              "      fill: #D2E3FC;\n",
              "    }\n",
              "\n",
              "    [theme=dark] .colab-df-convert:hover {\n",
              "      background-color: #434B5C;\n",
              "      box-shadow: 0px 1px 3px 1px rgba(0, 0, 0, 0.15);\n",
              "      filter: drop-shadow(0px 1px 2px rgba(0, 0, 0, 0.3));\n",
              "      fill: #FFFFFF;\n",
              "    }\n",
              "  </style>\n",
              "\n",
              "    <script>\n",
              "      const buttonEl =\n",
              "        document.querySelector('#df-59df489e-8bd4-4548-bb1a-bafa3bbff4c4 button.colab-df-convert');\n",
              "      buttonEl.style.display =\n",
              "        google.colab.kernel.accessAllowed ? 'block' : 'none';\n",
              "\n",
              "      async function convertToInteractive(key) {\n",
              "        const element = document.querySelector('#df-59df489e-8bd4-4548-bb1a-bafa3bbff4c4');\n",
              "        const dataTable =\n",
              "          await google.colab.kernel.invokeFunction('convertToInteractive',\n",
              "                                                    [key], {});\n",
              "        if (!dataTable) return;\n",
              "\n",
              "        const docLinkHtml = 'Like what you see? Visit the ' +\n",
              "          '<a target=\"_blank\" href=https://colab.research.google.com/notebooks/data_table.ipynb>data table notebook</a>'\n",
              "          + ' to learn more about interactive tables.';\n",
              "        element.innerHTML = '';\n",
              "        dataTable['output_type'] = 'display_data';\n",
              "        await google.colab.output.renderOutput(dataTable, element);\n",
              "        const docLink = document.createElement('div');\n",
              "        docLink.innerHTML = docLinkHtml;\n",
              "        element.appendChild(docLink);\n",
              "      }\n",
              "    </script>\n",
              "  </div>\n",
              "\n",
              "\n",
              "<div id=\"df-f25e7e0d-8a72-4b99-a5f9-a2b103ca74ec\">\n",
              "  <button class=\"colab-df-quickchart\" onclick=\"quickchart('df-f25e7e0d-8a72-4b99-a5f9-a2b103ca74ec')\"\n",
              "            title=\"Suggest charts\"\n",
              "            style=\"display:none;\">\n",
              "\n",
              "<svg xmlns=\"http://www.w3.org/2000/svg\" height=\"24px\"viewBox=\"0 0 24 24\"\n",
              "     width=\"24px\">\n",
              "    <g>\n",
              "        <path d=\"M19 3H5c-1.1 0-2 .9-2 2v14c0 1.1.9 2 2 2h14c1.1 0 2-.9 2-2V5c0-1.1-.9-2-2-2zM9 17H7v-7h2v7zm4 0h-2V7h2v10zm4 0h-2v-4h2v4z\"/>\n",
              "    </g>\n",
              "</svg>\n",
              "  </button>\n",
              "\n",
              "<style>\n",
              "  .colab-df-quickchart {\n",
              "      --bg-color: #E8F0FE;\n",
              "      --fill-color: #1967D2;\n",
              "      --hover-bg-color: #E2EBFA;\n",
              "      --hover-fill-color: #174EA6;\n",
              "      --disabled-fill-color: #AAA;\n",
              "      --disabled-bg-color: #DDD;\n",
              "  }\n",
              "\n",
              "  [theme=dark] .colab-df-quickchart {\n",
              "      --bg-color: #3B4455;\n",
              "      --fill-color: #D2E3FC;\n",
              "      --hover-bg-color: #434B5C;\n",
              "      --hover-fill-color: #FFFFFF;\n",
              "      --disabled-bg-color: #3B4455;\n",
              "      --disabled-fill-color: #666;\n",
              "  }\n",
              "\n",
              "  .colab-df-quickchart {\n",
              "    background-color: var(--bg-color);\n",
              "    border: none;\n",
              "    border-radius: 50%;\n",
              "    cursor: pointer;\n",
              "    display: none;\n",
              "    fill: var(--fill-color);\n",
              "    height: 32px;\n",
              "    padding: 0;\n",
              "    width: 32px;\n",
              "  }\n",
              "\n",
              "  .colab-df-quickchart:hover {\n",
              "    background-color: var(--hover-bg-color);\n",
              "    box-shadow: 0 1px 2px rgba(60, 64, 67, 0.3), 0 1px 3px 1px rgba(60, 64, 67, 0.15);\n",
              "    fill: var(--button-hover-fill-color);\n",
              "  }\n",
              "\n",
              "  .colab-df-quickchart-complete:disabled,\n",
              "  .colab-df-quickchart-complete:disabled:hover {\n",
              "    background-color: var(--disabled-bg-color);\n",
              "    fill: var(--disabled-fill-color);\n",
              "    box-shadow: none;\n",
              "  }\n",
              "\n",
              "  .colab-df-spinner {\n",
              "    border: 2px solid var(--fill-color);\n",
              "    border-color: transparent;\n",
              "    border-bottom-color: var(--fill-color);\n",
              "    animation:\n",
              "      spin 1s steps(1) infinite;\n",
              "  }\n",
              "\n",
              "  @keyframes spin {\n",
              "    0% {\n",
              "      border-color: transparent;\n",
              "      border-bottom-color: var(--fill-color);\n",
              "      border-left-color: var(--fill-color);\n",
              "    }\n",
              "    20% {\n",
              "      border-color: transparent;\n",
              "      border-left-color: var(--fill-color);\n",
              "      border-top-color: var(--fill-color);\n",
              "    }\n",
              "    30% {\n",
              "      border-color: transparent;\n",
              "      border-left-color: var(--fill-color);\n",
              "      border-top-color: var(--fill-color);\n",
              "      border-right-color: var(--fill-color);\n",
              "    }\n",
              "    40% {\n",
              "      border-color: transparent;\n",
              "      border-right-color: var(--fill-color);\n",
              "      border-top-color: var(--fill-color);\n",
              "    }\n",
              "    60% {\n",
              "      border-color: transparent;\n",
              "      border-right-color: var(--fill-color);\n",
              "    }\n",
              "    80% {\n",
              "      border-color: transparent;\n",
              "      border-right-color: var(--fill-color);\n",
              "      border-bottom-color: var(--fill-color);\n",
              "    }\n",
              "    90% {\n",
              "      border-color: transparent;\n",
              "      border-bottom-color: var(--fill-color);\n",
              "    }\n",
              "  }\n",
              "</style>\n",
              "\n",
              "  <script>\n",
              "    async function quickchart(key) {\n",
              "      const quickchartButtonEl =\n",
              "        document.querySelector('#' + key + ' button');\n",
              "      quickchartButtonEl.disabled = true;  // To prevent multiple clicks.\n",
              "      quickchartButtonEl.classList.add('colab-df-spinner');\n",
              "      try {\n",
              "        const charts = await google.colab.kernel.invokeFunction(\n",
              "            'suggestCharts', [key], {});\n",
              "      } catch (error) {\n",
              "        console.error('Error during call to suggestCharts:', error);\n",
              "      }\n",
              "      quickchartButtonEl.classList.remove('colab-df-spinner');\n",
              "      quickchartButtonEl.classList.add('colab-df-quickchart-complete');\n",
              "    }\n",
              "    (() => {\n",
              "      let quickchartButtonEl =\n",
              "        document.querySelector('#df-f25e7e0d-8a72-4b99-a5f9-a2b103ca74ec button');\n",
              "      quickchartButtonEl.style.display =\n",
              "        google.colab.kernel.accessAllowed ? 'block' : 'none';\n",
              "    })();\n",
              "  </script>\n",
              "</div>\n",
              "\n",
              "    </div>\n",
              "  </div>\n"
            ],
            "application/vnd.google.colaboratory.intrinsic+json": {
              "type": "dataframe",
              "variable_name": "data"
            }
          },
          "metadata": {},
          "execution_count": 3
        }
      ],
      "source": [
        "data.head()"
      ]
    },
    {
      "cell_type": "code",
      "source": [
        "data_copy = data.copy()\n",
        "data.info()"
      ],
      "metadata": {
        "id": "TPRn4MFEldA8",
        "outputId": "72c81714-e69f-464b-ff42-ec7262a0f555",
        "colab": {
          "base_uri": "https://localhost:8080/"
        }
      },
      "execution_count": 4,
      "outputs": [
        {
          "output_type": "stream",
          "name": "stdout",
          "text": [
            "<class 'pandas.core.frame.DataFrame'>\n",
            "RangeIndex: 12684 entries, 0 to 12683\n",
            "Data columns (total 26 columns):\n",
            " #   Column                Non-Null Count  Dtype \n",
            "---  ------                --------------  ----- \n",
            " 0   destination           12684 non-null  object\n",
            " 1   passanger             12684 non-null  object\n",
            " 2   weather               12684 non-null  object\n",
            " 3   temperature           12684 non-null  int64 \n",
            " 4   time                  12684 non-null  object\n",
            " 5   coupon                12684 non-null  object\n",
            " 6   expiration            12684 non-null  object\n",
            " 7   gender                12684 non-null  object\n",
            " 8   age                   12684 non-null  object\n",
            " 9   maritalStatus         12684 non-null  object\n",
            " 10  has_children          12684 non-null  int64 \n",
            " 11  education             12684 non-null  object\n",
            " 12  occupation            12684 non-null  object\n",
            " 13  income                12684 non-null  object\n",
            " 14  car                   108 non-null    object\n",
            " 15  Bar                   12577 non-null  object\n",
            " 16  CoffeeHouse           12467 non-null  object\n",
            " 17  CarryAway             12533 non-null  object\n",
            " 18  RestaurantLessThan20  12554 non-null  object\n",
            " 19  Restaurant20To50      12495 non-null  object\n",
            " 20  toCoupon_GEQ5min      12684 non-null  int64 \n",
            " 21  toCoupon_GEQ15min     12684 non-null  int64 \n",
            " 22  toCoupon_GEQ25min     12684 non-null  int64 \n",
            " 23  direction_same        12684 non-null  int64 \n",
            " 24  direction_opp         12684 non-null  int64 \n",
            " 25  Y                     12684 non-null  int64 \n",
            "dtypes: int64(8), object(18)\n",
            "memory usage: 2.5+ MB\n"
          ]
        }
      ]
    },
    {
      "cell_type": "markdown",
      "metadata": {
        "id": "GcDs78ZH_qRH"
      },
      "source": [
        "2. Investigate the dataset for missing or problematic data."
      ]
    },
    {
      "cell_type": "code",
      "execution_count": 5,
      "metadata": {
        "id": "6CwL6oWj_qRH"
      },
      "outputs": [],
      "source": [
        "def show_missing_values(data):\n",
        "  # Calculate missing values count and percentage\n",
        "  missing_values = data.isna().sum()\n",
        "  missing_percentage = (missing_values / len(data)) * 100\n",
        "\n",
        "  # Create a DataFrame with both raw count and percentage\n",
        "  missing_data_summary = pd.DataFrame({\n",
        "      \"Missing Count\": missing_values,\n",
        "      \"Missing Percentage\": missing_percentage\n",
        "  })\n",
        "\n",
        "  # Filter to show only columns with missing values\n",
        "  missing_data_summary = missing_data_summary[missing_data_summary[\"Missing Count\"] > 0]\n",
        "\n",
        "  # Display the result\n",
        "  print(missing_data_summary)"
      ]
    },
    {
      "cell_type": "markdown",
      "metadata": {
        "id": "bSdVSpYB_qRH"
      },
      "source": [
        "3. Decide what to do about your missing data -- drop, replace, other..."
      ]
    },
    {
      "cell_type": "code",
      "execution_count": 6,
      "metadata": {
        "id": "tyvoAC5F_qRI",
        "collapsed": true
      },
      "outputs": [],
      "source": [
        "# drop car column. We have a copy of original data.\n",
        "# 99% of data is missing for car, hence, lets drop car column\n",
        "# Drop column direction_opp with low relevance\n",
        "data.drop(['car', 'direction_opp'], axis=1, inplace=True)"
      ]
    },
    {
      "cell_type": "code",
      "source": [
        "# Remove rows with missing values in these key columns\n",
        "behavioral_cols = ['Bar', 'CoffeeHouse', 'CarryAway', 'RestaurantLessThan20', 'Restaurant20To50']\n",
        "data.dropna(subset=behavioral_cols, inplace=True)"
      ],
      "metadata": {
        "id": "iBFdWekBK1sR"
      },
      "execution_count": 7,
      "outputs": []
    },
    {
      "cell_type": "code",
      "source": [
        "# Combine time-to-coupon features into a single ordinal feature\n",
        "def combine_time_to_coupon(row):\n",
        "    if row['toCoupon_GEQ25min'] == 1:\n",
        "        return '25min+'\n",
        "    elif row['toCoupon_GEQ15min'] == 1:\n",
        "        return '15-25min'\n",
        "    elif row['toCoupon_GEQ5min'] == 1:\n",
        "        return '5-15min'\n",
        "    return '0-5min'\n",
        "\n",
        "data['time_to_coupon'] = data.apply(combine_time_to_coupon, axis=1)\n",
        "data.drop(['toCoupon_GEQ5min', 'toCoupon_GEQ15min', 'toCoupon_GEQ25min'], axis=1, inplace=True)"
      ],
      "metadata": {
        "id": "nQqAnFzbLA6F"
      },
      "execution_count": 8,
      "outputs": []
    },
    {
      "cell_type": "code",
      "source": [
        "missing_data = show_missing_values(data)\n",
        "missing_data"
      ],
      "metadata": {
        "colab": {
          "base_uri": "https://localhost:8080/"
        },
        "id": "pKqFnklrLiFn",
        "outputId": "0d2354c2-0fcd-49e0-db44-10e265479637"
      },
      "execution_count": 9,
      "outputs": [
        {
          "output_type": "stream",
          "name": "stdout",
          "text": [
            "Empty DataFrame\n",
            "Columns: [Missing Count, Missing Percentage]\n",
            "Index: []\n"
          ]
        }
      ]
    },
    {
      "cell_type": "markdown",
      "metadata": {
        "id": "YE6oJbXd_qRI"
      },
      "source": [
        "4. What proportion of the total observations chose to accept the coupon?\n",
        "\n"
      ]
    },
    {
      "cell_type": "code",
      "execution_count": null,
      "metadata": {
        "id": "86GGqBTv_qRI",
        "colab": {
          "base_uri": "https://localhost:8080/"
        },
        "outputId": "cf54b7de-27c2-453d-8e4e-1b14bb21013e"
      },
      "outputs": [
        {
          "output_type": "stream",
          "name": "stdout",
          "text": [
            "Percentage of observations kept: 95.23%\n"
          ]
        }
      ],
      "source": [
        "# Calculate the percentage of observations kept\n",
        "percentage_kept = (len(data) / len(data_copy)) * 100\n",
        "\n",
        "print(f\"Percentage of observations kept: {percentage_kept:.2f}%\")"
      ]
    },
    {
      "cell_type": "markdown",
      "metadata": {
        "id": "vflz0DoE_qRI"
      },
      "source": [
        "5. Use a bar plot to visualize the `coupon` column."
      ]
    },
    {
      "cell_type": "code",
      "execution_count": 12,
      "metadata": {
        "id": "dHFh3E45_qRI",
        "colab": {
          "base_uri": "https://localhost:8080/",
          "height": 564
        },
        "outputId": "735a5ede-0959-4920-90bf-0bdfbc786e59"
      },
      "outputs": [
        {
          "output_type": "display_data",
          "data": {
            "text/plain": [
              "<Figure size 1000x600 with 1 Axes>"
            ],
            "image/png": "[encoded data removed]"
          },
          "metadata": {}
        }
      ],
      "source": [
        "import matplotlib.pyplot as plt\n",
        "\n",
        "platform_counts = data['Y'].value_counts()\n",
        "\n",
        "# Create a bar plot using Matplotlib\n",
        "plt.figure(figsize=(10, 6))\n",
        "plt.bar(platform_counts.index, platform_counts.values)\n",
        "plt.title('Coupons Acceptance Distribution')\n",
        "plt.xlabel('Coupons accepted?')\n",
        "plt.ylabel('Number of coupons')\n",
        "plt.xticks(ticks=[0, 1], labels=['No', 'Yes'])\n",
        "plt.show()"
      ]
    },
    {
      "cell_type": "markdown",
      "metadata": {
        "id": "Qw4lCyx2_qRI"
      },
      "source": [
        "6. Use a histogram to visualize the temperature column."
      ]
    },
    {
      "cell_type": "code",
      "execution_count": null,
      "metadata": {
        "id": "Yg9Anv71_qRI",
        "colab": {
          "base_uri": "https://localhost:8080/",
          "height": 487
        },
        "outputId": "b39b7ad1-5cc0-43ce-8503-c2fb5e7d46c8"
      },
      "outputs": [
        {
          "output_type": "display_data",
          "data": {
            "text/plain": [
              "<Figure size 1000x500 with 1 Axes>"
            ],
            "image/png": "[encoded data removed]"
          },
          "metadata": {}
        }
      ],
      "source": [
        "data['temperature'].hist(bins=30, figsize=(10, 5), edgecolor='black')\n",
        "plt.xlabel('Temperature')\n",
        "plt.ylabel('Frequency')\n",
        "plt.title('Temperature Distribution')\n",
        "plt.show()"
      ]
    },
    {
      "cell_type": "markdown",
      "metadata": {
        "id": "FupfgeJk_qRJ"
      },
      "source": [
        "**Investigating the Bar Coupons**\n",
        "\n",
        "Now, we will lead you through an exploration of just the bar related coupons.  \n",
        "\n",
        "1. Create a new `DataFrame` that contains just the bar coupons.\n"
      ]
    },
    {
      "cell_type": "code",
      "execution_count": null,
      "metadata": {
        "id": "tMBlWuGq_qRJ",
        "colab": {
          "base_uri": "https://localhost:8080/"
        },
        "outputId": "2d819701-5d78-415e-9a5a-00f3bbbda719"
      },
      "outputs": [
        {
          "output_type": "execute_result",
          "data": {
            "text/plain": [
              "array(['Restaurant(<20)', 'Coffee House', 'Bar', 'Carry out & Take away',\n",
              "       'Restaurant(20-50)'], dtype=object)"
            ]
          },
          "metadata": {},
          "execution_count": 14
        }
      ],
      "source": [
        "data['coupon'].unique()"
      ]
    },
    {
      "cell_type": "code",
      "source": [
        "bar_coupons = data[data['coupon'] == 'Bar']"
      ],
      "metadata": {
        "id": "Ja731gaVmSDP"
      },
      "execution_count": null,
      "outputs": []
    },
    {
      "cell_type": "code",
      "source": [
        "bar_coupons['Bar'].unique()"
      ],
      "metadata": {
        "colab": {
          "base_uri": "https://localhost:8080/"
        },
        "id": "wIA_9S10nq4G",
        "outputId": "32fb4bb9-0bac-4a2b-fc03-1d4acec34bab"
      },
      "execution_count": null,
      "outputs": [
        {
          "output_type": "execute_result",
          "data": {
            "text/plain": [
              "array(['never', 'less1', '1~3', 'gt8', '4~8'], dtype=object)"
            ]
          },
          "metadata": {},
          "execution_count": 41
        }
      ]
    },
    {
      "cell_type": "markdown",
      "metadata": {
        "id": "8ue6uCqf_qRJ"
      },
      "source": [
        "2. What proportion of bar coupons were accepted?\n"
      ]
    },
    {
      "cell_type": "code",
      "execution_count": null,
      "metadata": {
        "id": "hSdte8Mi_qRK",
        "colab": {
          "base_uri": "https://localhost:8080/"
        },
        "outputId": "5803c4d3-cb85-4eff-a05a-10ee742a5518"
      },
      "outputs": [
        {
          "output_type": "stream",
          "name": "stdout",
          "text": [
            "Proportion of bar coupons accepted: 41.19%\n"
          ]
        }
      ],
      "source": [
        "total_bar_coupons = float(len(bar_coupons))\n",
        "bar_coupons_accepted = len(bar_coupons[bar_coupons['Y'] == 1])\n",
        "bar_coupons_accepted_rate = bar_coupons_accepted / float(total_bar_coupons)\n",
        "\n",
        "print(f\"Proportion of bar coupons accepted: {bar_coupons_accepted_rate * 100:.2f}%\")"
      ]
    },
    {
      "cell_type": "markdown",
      "metadata": {
        "id": "85nA_iEi_qRK"
      },
      "source": [
        "3. Compare the acceptance rate between those who went to a bar 3 or fewer times a month to those who went more.\n"
      ]
    },
    {
      "cell_type": "code",
      "execution_count": null,
      "metadata": {
        "id": "LBOrN-XM_qRK",
        "colab": {
          "base_uri": "https://localhost:8080/"
        },
        "outputId": "98c404ef-8505-43d9-daea-a7df936f2b2b"
      },
      "outputs": [
        {
          "output_type": "stream",
          "name": "stdout",
          "text": [
            "Acceptance rate between those who went to a bar 3 or fewer times a month to those who went more.\n",
            "Acceptance Rate (Bar ≤ 3x/month): 33.51%\n",
            "Acceptance Rate (Bar > 3x/month): 7.68%\n"
          ]
        }
      ],
      "source": [
        "# Acceptance rate who went to bar 3 or fewer times\n",
        "those_went_to_bar_3_or_fewer = bar_coupons[bar_coupons['Bar'].isin(['never', 'less1', '1~3'])]\n",
        "those_went_to_bar_more_than_3 = bar_coupons[bar_coupons['Bar'].isin(['4~8', 'gt8'])]\n",
        "group_more_than_3 = bar_coupons[bar_coupons['Bar'].isin(['4~8', 'gt8'])]\n",
        "\n",
        "acceptance_rate_3_or_fewer = len(those_went_to_bar_3_or_fewer[those_went_to_bar_3_or_fewer['Y'] == 1]) / float(total_bar_coupons)\n",
        "acceptance_rate_more_than_3 = len(those_went_to_bar_more_than_3[those_went_to_bar_more_than_3['Y'] == 1]) / float(total_bar_coupons)\n",
        "# acceptance_rate_more_than_3 = len(group_more_than_3[group_more_than_3['Y'] == 1]) / float(len(group_more_than_3)) if len(group_more_than_3) > 0 else 0\n",
        "\n",
        "# Print comparison\n",
        "print(\"Acceptance rate between those who went to a bar 3 or fewer times a month to those who went more.\")\n",
        "print(f\"Acceptance Rate (Bar ≤ 3x/month): {acceptance_rate_3_or_fewer * 100:.2f}%\")\n",
        "print(f\"Acceptance Rate (Bar > 3x/month): {acceptance_rate_more_than_3 * 100:.2f}%\")\n"
      ]
    },
    {
      "cell_type": "markdown",
      "metadata": {
        "id": "RBgcQwH4_qRK"
      },
      "source": [
        "4. Compare the acceptance rate between drivers who go to a bar more than once a month and are over the age of 25 to the all others.  Is there a difference?\n"
      ]
    },
    {
      "cell_type": "code",
      "source": [
        "bar_coupons.loc[:, 'age'] = pd.to_numeric(bar_coupons['age'], errors='coerce')\n",
        "\n",
        "# Drivers > 25 & Bar > 1x/month\n",
        "control_group = bar_coupons[\n",
        "    (bar_coupons['Bar'].isin(['1~3', '4~8', 'gt8'])) & (bar_coupons['age'] > 25)\n",
        "]\n",
        "\n",
        "# Define the \"all others\" group: Everyone else\n",
        "group_all_others = bar_coupons[~bar_coupons.index.isin(control_group.index)]  # Exclude control_group\n",
        "\n",
        "# Compute acceptance rates safely\n",
        "acceptance_rate_control_group = len(control_group[control_group['Y'] == 1]) / float(len(control_group))\n",
        "acceptance_rate_all_others = len(group_all_others[group_all_others['Y'] == 1]) / float(len(group_all_others))\n",
        "\n",
        "# Print comparison\n",
        "print(\"Control group: Drivers who go to a bar more than once a month and are over the age of 25 to the all others.\")\n",
        "print(f\"Acceptance Rate Control Group: {acceptance_rate_control_group * 100:.2f}%\")\n",
        "print(f\"Acceptance Rate (All Others): {acceptance_rate_all_others * 100:.2f}%\")"
      ],
      "metadata": {
        "colab": {
          "base_uri": "https://localhost:8080/"
        },
        "id": "ClekuFUovzfn",
        "outputId": "c06940c6-84a1-40e9-db40-e5372266af6a"
      },
      "execution_count": null,
      "outputs": [
        {
          "output_type": "stream",
          "name": "stdout",
          "text": [
            "Control group: Drivers who go to a bar more than once a month and are over the age of 25 to the all others.\n",
            "Acceptance Rate Control Group: 69.41%\n",
            "Acceptance Rate (All Others): 35.09%\n"
          ]
        }
      ]
    },
    {
      "cell_type": "markdown",
      "metadata": {
        "id": "S4RKT4PJ_qRK"
      },
      "source": [
        "5. Use the same process to compare the acceptance rate between drivers who go to bars more than once a month and had passengers that were not a kid and had occupations other than farming, fishing, or forestry.\n"
      ]
    },
    {
      "cell_type": "code",
      "source": [
        "control_group = bar_coupons[\n",
        "    (bar_coupons['Bar'].isin(['1~3', '4~8', 'gt8'])) &\n",
        "    ((bar_coupons['has_children'] != 1) & (bar_coupons['passanger'] != 'kid')) &\n",
        "    (bar_coupons['occupation'] != 'Farming Fishing & Forestry')\n",
        "]\n",
        "\n",
        "# Define the \"all others\" group: Everyone else\n",
        "group_all_others = bar_coupons[~bar_coupons.index.isin(control_group.index)]  # Exclude control_group\n",
        "\n",
        "# Compute acceptance rates safely\n",
        "acceptance_rate_control_group = len(control_group[control_group['Y'] == 1]) / float(len(control_group))\n",
        "acceptance_rate_all_others = len(group_all_others[group_all_others['Y'] == 1]) / float(len(group_all_others))\n",
        "\n",
        "# Print comparison\n",
        "print(\"Control group: Drivers who go to bars more than once a month and had passengers that were not a kid and had occupations other than farming, fishing, or forestry.\")\n",
        "print(f\"Acceptance Rate Control Group: {acceptance_rate_control_group * 100:.2f}%\")\n",
        "print(f\"Acceptance Rate (All Others): {acceptance_rate_all_others * 100:.2f}%\")"
      ],
      "metadata": {
        "colab": {
          "base_uri": "https://localhost:8080/"
        },
        "id": "PMSiewwqDebb",
        "outputId": "8687a5a8-3310-4c65-d0e2-2da8957d4442"
      },
      "execution_count": null,
      "outputs": [
        {
          "output_type": "stream",
          "name": "stdout",
          "text": [
            "Control group: Drivers who go to bars more than once a month and had passengers that were not a kid and had occupations other than farming, fishing, or forestry.\n",
            "Acceptance Rate Control Group: 70.22%\n",
            "Acceptance Rate (All Others): 33.44%\n"
          ]
        }
      ]
    },
    {
      "cell_type": "markdown",
      "metadata": {
        "id": "n2LIUTil_qRK"
      },
      "source": [
        "6. Compare the acceptance rates between those drivers who:\n",
        "\n",
        "- go to bars more than once a month, had passengers that were not a kid, and were not widowed *OR*\n",
        "- go to bars more than once a month and are under the age of 30 *OR*\n",
        "- go to cheap restaurants more than 4 times a month and income is less than 50K.\n",
        "\n"
      ]
    },
    {
      "cell_type": "code",
      "execution_count": null,
      "metadata": {
        "id": "aK_wEzx7_qRK",
        "colab": {
          "base_uri": "https://localhost:8080/"
        },
        "outputId": "946beaa9-1241-4bd9-d9da-9c87763a234b"
      },
      "outputs": [
        {
          "output_type": "stream",
          "name": "stdout",
          "text": [
            "Target group: Drivers who go to bars more than once a month, had passengers that were not a kid, and were not widowed OR go to bars more than once a month and are under the age of 30 OR go to cheap restaurants more than 4 times a month and income is less than 50K.\n",
            "Acceptance Rate (Target Group): 48.58%\n",
            "Acceptance Rate (All Others): 32.74%\n"
          ]
        }
      ],
      "source": [
        "bar_coupons.loc[:, 'age'] = pd.to_numeric(bar_coupons['age'], errors='coerce')\n",
        "target_group = bar_coupons[\n",
        "    (bar_coupons['Bar'].isin(['1~3', '4~8', 'gt8']) & ((bar_coupons['has_children'] != 1) & (bar_coupons['passanger'] != 'kid')) & (bar_coupons['maritalStatus'] != 'Widowed')) |\n",
        "    (bar_coupons['Bar'].isin(['1~3', '4~8', 'gt8']) & (bar_coupons['age'] < 30)) |\n",
        "    (bar_coupons['RestaurantLessThan20'].isin(['1~3', '4~8', 'gt8']) & (bar_coupons['income'].isin(['Less than $12500', '$12500 - $24999', '$25000 - $37499', '$37500 - $49999'])))\n",
        "]\n",
        "\n",
        "group_all_others = bar_coupons[~bar_coupons.index.isin(target_group.index)]\n",
        "\n",
        "acceptance_rate_target = len(target_group[target_group['Y'] == 1]) / float(len(target_group))\n",
        "acceptance_rate_all_others = len(group_all_others[group_all_others['Y'] == 1]) / float(len(group_all_others))\n",
        "\n",
        "print(\"Target group: Drivers who go to bars more than once a month, had passengers that were not a kid, and were not widowed OR go to bars more than once a month and are under the age of 30 OR go to cheap restaurants more than 4 times a month and income is less than 50K.\")\n",
        "print(f\"Acceptance Rate (Target Group): {acceptance_rate_target * 100:.2f}%\")\n",
        "print(f\"Acceptance Rate (All Others): {acceptance_rate_all_others * 100:.2f}%\")"
      ]
    },
    {
      "cell_type": "markdown",
      "metadata": {
        "id": "v3fL3QkO_qRK"
      },
      "source": [
        "*7*.  Based on these observations, what do you hypothesize about drivers who accepted the bar coupons?"
      ]
    },
    {
      "cell_type": "markdown",
      "source": [
        "**Here is my hypothesis (for bar coupons):**\n",
        "\n",
        "Drivers who visit bars occasionally (≤3 times/month) are more likely to accept bar coupons (33.51%) compared to frequent bar-goers (7.68%). This suggests that occasional visitors may view the coupon as a special incentive, while regulars are less influenced.\n",
        "\n",
        "Age also plays a role—drivers over 25 who visit bars more than once a month show a higher acceptance rate (69.41%), possibly because they have more disposable income or see value in social spending.\n",
        "\n",
        "Drivers with adult passengers and occupations outside Farming, Fishing, or Forestry show a higher coupon acceptance rate (70.22%), suggesting that social contexts play a significant role in influencing coupon acceptance.\n",
        "\n",
        "When combining lifestyle factors—such as frequent social outings (bars and cheap restaurants), younger age, and moderate incomes—the acceptance rate rises to 48.58%, compared to 32.74% for others. This suggests that socially active, cost-conscious drivers are the most likely to accept bar coupons."
      ],
      "metadata": {
        "id": "vHVnvuOezm-H"
      }
    },
    {
      "cell_type": "code",
      "execution_count": null,
      "metadata": {
        "id": "Y48naDFh_qRL"
      },
      "outputs": [],
      "source": []
    },
    {
      "cell_type": "markdown",
      "metadata": {
        "id": "r4Hu1zOb_qRL"
      },
      "source": [
        "### Independent Investigation\n",
        "\n",
        "Using the bar coupon example as motivation, you are to explore one of the other coupon groups and try to determine the characteristics of passengers who accept the coupons.  "
      ]
    },
    {
      "cell_type": "code",
      "execution_count": null,
      "metadata": {
        "id": "0c71cQhu_qRL",
        "colab": {
          "base_uri": "https://localhost:8080/",
          "height": 272
        },
        "outputId": "c76967cd-50fe-4bab-9d95-880c25c0eac0"
      },
      "outputs": [
        {
          "output_type": "execute_result",
          "data": {
            "text/plain": [
              "coupon\n",
              "Coffee House             3816\n",
              "Restaurant(<20)          2653\n",
              "Carry out & Take away    2280\n",
              "Bar                      1913\n",
              "Restaurant(20-50)        1417\n",
              "Name: count, dtype: int64"
            ],
            "text/html": [
              "<div>\n",
              "<style scoped>\n",
              "    .dataframe tbody tr th:only-of-type {\n",
              "        vertical-align: middle;\n",
              "    }\n",
              "\n",
              "    .dataframe tbody tr th {\n",
              "        vertical-align: top;\n",
              "    }\n",
              "\n",
              "    .dataframe thead th {\n",
              "        text-align: right;\n",
              "    }\n",
              "</style>\n",
              "<table border=\"1\" class=\"dataframe\">\n",
              "  <thead>\n",
              "    <tr style=\"text-align: right;\">\n",
              "      <th></th>\n",
              "      <th>count</th>\n",
              "    </tr>\n",
              "    <tr>\n",
              "      <th>coupon</th>\n",
              "      <th></th>\n",
              "    </tr>\n",
              "  </thead>\n",
              "  <tbody>\n",
              "    <tr>\n",
              "      <th>Coffee House</th>\n",
              "      <td>3816</td>\n",
              "    </tr>\n",
              "    <tr>\n",
              "      <th>Restaurant(&lt;20)</th>\n",
              "      <td>2653</td>\n",
              "    </tr>\n",
              "    <tr>\n",
              "      <th>Carry out &amp; Take away</th>\n",
              "      <td>2280</td>\n",
              "    </tr>\n",
              "    <tr>\n",
              "      <th>Bar</th>\n",
              "      <td>1913</td>\n",
              "    </tr>\n",
              "    <tr>\n",
              "      <th>Restaurant(20-50)</th>\n",
              "      <td>1417</td>\n",
              "    </tr>\n",
              "  </tbody>\n",
              "</table>\n",
              "</div><br><label><b>dtype:</b> int64</label>"
            ]
          },
          "metadata": {},
          "execution_count": 12
        }
      ],
      "source": [
        "data['coupon'].value_counts()"
      ]
    },
    {
      "cell_type": "markdown",
      "source": [
        "**Lets try to analyze about Coffee House coupons**\n",
        "\n",
        "\n"
      ],
      "metadata": {
        "id": "cX9gPTJ21D4U"
      }
    },
    {
      "cell_type": "code",
      "execution_count": null,
      "metadata": {
        "id": "QEsBkvIN_qRL"
      },
      "outputs": [],
      "source": [
        "coffee_coupons = data[data['coupon'] == 'Coffee House']"
      ]
    },
    {
      "cell_type": "markdown",
      "source": [
        "1. Time of Day vs. Coffee Coupon Acceptance\n",
        "2. Passenger Type vs. Coffee Coupon Acceptance\n",
        "3. Distance to Coupon vs. Coffee Coupon Acceptance\n",
        "4. Weather Conditions vs. Coffee Coupon Acceptance"
      ],
      "metadata": {
        "id": "AbIR2gCZ1eoQ"
      }
    },
    {
      "cell_type": "markdown",
      "source": [
        "1. What proportion of Coffee Coupons were accepted?"
      ],
      "metadata": {
        "id": "zSIvnc7S1wsW"
      }
    },
    {
      "cell_type": "code",
      "execution_count": null,
      "metadata": {
        "id": "fTC2WGE3_qRL",
        "colab": {
          "base_uri": "https://localhost:8080/"
        },
        "outputId": "40fd1f4f-02b7-450b-b5fe-87a171755012"
      },
      "outputs": [
        {
          "output_type": "stream",
          "name": "stdout",
          "text": [
            "Proportion of coffee coupons accepted: 49.63%\n"
          ]
        }
      ],
      "source": [
        "total_coffee_coupons = float(len(coffee_coupons))\n",
        "coffee_coupons_accepted = len(coffee_coupons[coffee_coupons['Y'] == 1])\n",
        "coffee_coupons_accepted_rate = coffee_coupons_accepted / float(total_coffee_coupons)\n",
        "\n",
        "print(f\"Proportion of coffee coupons accepted: {coffee_coupons_accepted_rate * 100:.2f}%\")"
      ]
    },
    {
      "cell_type": "markdown",
      "source": [
        "2. Compare the acceptance rate between different times of the day."
      ],
      "metadata": {
        "id": "bGes5E7_2Jxo"
      }
    },
    {
      "cell_type": "code",
      "execution_count": null,
      "metadata": {
        "id": "_oykf8YP_qRL",
        "colab": {
          "base_uri": "https://localhost:8080/"
        },
        "outputId": "8cd39293-8393-4975-bbbb-0634c93592bc"
      },
      "outputs": [
        {
          "output_type": "execute_result",
          "data": {
            "text/plain": [
              "array(['10AM', '2PM', '6PM', '7AM', '10PM'], dtype=object)"
            ]
          },
          "metadata": {},
          "execution_count": 23
        }
      ],
      "source": [
        "coffee_coupons['time'].unique()"
      ]
    },
    {
      "cell_type": "code",
      "source": [
        "\"\"\"\n",
        "coffee_coupons_7am = coffee_coupons[coffee_coupons['time'] == '7AM']\n",
        "coffee_coupons_10am = coffee_coupons[coffee_coupons['time'] == '10AM']\n",
        "coffee_coupons_2pm = coffee_coupons[coffee_coupons['time'] == '2PM']\n",
        "coffee_coupons_6pm = coffee_coupons[coffee_coupons['time'] == '6PM']\n",
        "coffee_coupons_10pm = coffee_coupons[coffee_coupons['time'] == '10PM']\n",
        "\n",
        "acceptance_rate_7am = len(coffee_coupons_7am[coffee_coupons_7am['Y'] == 1]) / float(len(coffee_coupons_7am))\n",
        "print(f\"Proportion of coffee coupons accepted at 7am: {acceptance_rate_7am * 100:.2f}%\")\n",
        "\"\"\"\n",
        "\n",
        "# Define time categories\n",
        "time_categories = ['7AM', '10AM', '2PM', '6PM', '10PM']\n",
        "\n",
        "# Compute and print acceptance rates for each time category\n",
        "for time in time_categories:\n",
        "    coffee_time_df = coffee_coupons[coffee_coupons['time'] == time]\n",
        "    if len(coffee_time_df) > 0:\n",
        "        acceptance_rate = len(coffee_time_df[coffee_time_df['Y'] == 1]) / float(len(coffee_time_df))\n",
        "        print(f\"Proportion of coffee coupons accepted at {time}: {acceptance_rate * 100:.2f}%\")\n",
        "\n"
      ],
      "metadata": {
        "colab": {
          "base_uri": "https://localhost:8080/"
        },
        "id": "DwAYZvbs2gcy",
        "outputId": "ce7a91b6-de15-4455-fb9a-6c6443c277d9"
      },
      "execution_count": null,
      "outputs": [
        {
          "output_type": "stream",
          "name": "stdout",
          "text": [
            "Proportion of coffee coupons accepted at 7AM: 44.00%\n",
            "Proportion of coffee coupons accepted at 10AM: 63.48%\n",
            "Proportion of coffee coupons accepted at 2PM: 54.55%\n",
            "Proportion of coffee coupons accepted at 6PM: 41.23%\n",
            "Proportion of coffee coupons accepted at 10PM: 42.91%\n"
          ]
        }
      ]
    },
    {
      "cell_type": "markdown",
      "source": [
        "Coffee house coupons acceptance rate was higher at 10 am and next higher as 2 pm"
      ],
      "metadata": {
        "id": "_xA46NzW6uYy"
      }
    },
    {
      "cell_type": "markdown",
      "source": [
        "3. Lets analyze - distance to Coupon vs. Coffee Coupon Acceptance"
      ],
      "metadata": {
        "id": "_8NgB2Cf5Xpp"
      }
    },
    {
      "cell_type": "code",
      "source": [
        "coffee_coupons['time_to_coupon'].unique()"
      ],
      "metadata": {
        "colab": {
          "base_uri": "https://localhost:8080/"
        },
        "id": "ov5f4DPk5YRZ",
        "outputId": "9c4d29dd-4977-4052-ad30-717dd40d6916"
      },
      "execution_count": null,
      "outputs": [
        {
          "output_type": "execute_result",
          "data": {
            "text/plain": [
              "array(['5-15min', '15-25min', '25min+'], dtype=object)"
            ]
          },
          "metadata": {},
          "execution_count": 36
        }
      ]
    },
    {
      "cell_type": "code",
      "source": [
        "# Define time to coupon categories\n",
        "time_to_coupon_categories = ['5-15min', '15-25min', '25min+']\n",
        "\n",
        "# Compute and print acceptance rates for each time category\n",
        "for time_to in time_to_coupon_categories:\n",
        "    coffee_time_to_coupon_df = coffee_coupons[coffee_coupons['time_to_coupon'] == time_to]\n",
        "    if len(coffee_time_to_coupon_df) > 0:\n",
        "        acceptance_rate = len(coffee_time_to_coupon_df[coffee_time_to_coupon_df['Y'] == 1]) / float(len(coffee_time_to_coupon_df))\n",
        "        print(f\"Proportion of coffee coupons accepted at {time_to}: {acceptance_rate * 100:.2f}%\")"
      ],
      "metadata": {
        "colab": {
          "base_uri": "https://localhost:8080/"
        },
        "id": "fOci9cGl50C1",
        "outputId": "0e088e75-5253-454f-d7a8-8a8e9084c8de"
      },
      "execution_count": null,
      "outputs": [
        {
          "output_type": "stream",
          "name": "stdout",
          "text": [
            "Proportion of coffee coupons accepted at 5-15min: 54.53%\n",
            "Proportion of coffee coupons accepted at 15-25min: 47.03%\n",
            "Proportion of coffee coupons accepted at 25min+: 34.23%\n"
          ]
        }
      ]
    },
    {
      "cell_type": "markdown",
      "source": [
        "As expected, the coffee coupons acceptance rate was higher for when distance to coffee house is lower i.e 5-15 min\n"
      ],
      "metadata": {
        "id": "kziSEi0x6bTi"
      }
    },
    {
      "cell_type": "markdown",
      "source": [
        "4. Lets analyze: Weather Conditions vs. Coffee Coupon Acceptance"
      ],
      "metadata": {
        "id": "V6E2zR4S6_4p"
      }
    },
    {
      "cell_type": "code",
      "source": [
        "coffee_coupons['weather'].unique()"
      ],
      "metadata": {
        "colab": {
          "base_uri": "https://localhost:8080/"
        },
        "id": "usXL3MIt7B8p",
        "outputId": "7bdd05bc-5d05-45ef-e542-a6f89c054f55"
      },
      "execution_count": null,
      "outputs": [
        {
          "output_type": "execute_result",
          "data": {
            "text/plain": [
              "array(['Sunny', 'Rainy', 'Snowy'], dtype=object)"
            ]
          },
          "metadata": {},
          "execution_count": 37
        }
      ]
    },
    {
      "cell_type": "code",
      "source": [
        "# Define time to coupon categories\n",
        "weather_categories = ['Sunny', 'Rainy', 'Snowy']\n",
        "\n",
        "# Compute and print acceptance rates for each time category\n",
        "for weather in weather_categories:\n",
        "    weather_df = coffee_coupons[coffee_coupons['weather'] == weather]\n",
        "    if len(weather_df) > 0:\n",
        "        acceptance_rate = len(weather_df[weather_df['Y'] == 1]) / float(len(weather_df))\n",
        "        print(f\"Proportion of coffee coupons accepted at {weather}: {acceptance_rate * 100:.2f}%\")"
      ],
      "metadata": {
        "colab": {
          "base_uri": "https://localhost:8080/"
        },
        "id": "uH0yl0IA7PFm",
        "outputId": "7d305088-826c-481c-a5cb-a6f8ddae5476"
      },
      "execution_count": null,
      "outputs": [
        {
          "output_type": "stream",
          "name": "stdout",
          "text": [
            "Proportion of coffee coupons accepted at Sunny: 50.09%\n",
            "Proportion of coffee coupons accepted at Rainy: 51.63%\n",
            "Proportion of coffee coupons accepted at Snowy: 42.81%\n"
          ]
        }
      ]
    },
    {
      "cell_type": "markdown",
      "source": [
        "Interestingly, there was higher Coffee coupons acceptance rate on Rainy days followed by Sunny days. Its lower for Snowy days, probably because people don't want to drive during longer during Snowy days."
      ],
      "metadata": {
        "id": "LTrISeCp8auq"
      }
    },
    {
      "cell_type": "markdown",
      "source": [
        "Summary of Coffee Coupon Acceptance Trends:\n",
        "**bold text**\n",
        "+ Best times for coffee coupons? 10 AM had the highest acceptance rate (63.48%), followed by 2 PM (54.55%). Mornings and early afternoons seem to be peak coffee hours, while evenings and early mornings had lower acceptance.\n",
        "+ Distance matters. People were more likely to use a coffee coupon if the shop was within 5-15 minutes (54.53%), but acceptance dropped as the distance increased. At 25+ minutes, only 34.23% took the offer. Makes sense—who wants to go out of their way just for a discount?\n",
        "+ Weather impact. More people accepted coffee coupons on rainy days (51.63%), slightly more than on sunny days (50.09%). Snowy days had the lowest acceptance (42.81%), probably because people don’t want to drive far in bad weather."
      ],
      "metadata": {
        "id": "mx_zgkpD8vDy"
      }
    },
    {
      "cell_type": "markdown",
      "source": [
        "**It might be interesting to dig further:**\n",
        "\n",
        "+ Short vs. long expiration. Do people go for coffee coupons more when they expire in a day vs. in two days?\n",
        "+ Parents vs. non-parents. Do people with kids accept coffee coupons at the same rate as those without?\n",
        "+ Direction of travel. If the coffee shop is on the way to where they’re headed, are they more likely to use the coupon?"
      ],
      "metadata": {
        "id": "xHO6kGxX-Tj6"
      }
    }
  ],
  "metadata": {
    "kernelspec": {
      "display_name": "Python 3 (ipykernel)",
      "language": "python",
      "name": "python3"
    },
    "language_info": {
      "codemirror_mode": {
        "name": "ipython",
        "version": 3
      },
      "file_extension": ".py",
      "mimetype": "text/x-python",
      "name": "python",
      "nbconvert_exporter": "python",
      "pygments_lexer": "ipython3",
      "version": "3.12.1"
    },
    "colab": {
      "provenance": []
    }
  },
  "nbformat": 4,
  "nbformat_minor": 0
}